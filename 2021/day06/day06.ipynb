{
 "cells": [
  {
   "cell_type": "code",
   "execution_count": 83,
   "metadata": {},
   "outputs": [
    {
     "name": "stdout",
     "output_type": "stream",
     "text": [
      "CPU times: user 3 µs, sys: 0 ns, total: 3 µs\n",
      "Wall time: 7.87 µs\n",
      "Part 1: 352195\n",
      "Part 2: 1600306001288\n"
     ]
    }
   ],
   "source": [
    "%time\n",
    "\n",
    "import timeit\n",
    "\n",
    "def count_fish(starting_fish, days):\n",
    "    \n",
    "    # Create a list of zeros representing counts of fish states 0-8\n",
    "    arr = [int(0) for i in range(0,9)]\n",
    "    \n",
    "    # Count the number of fish in each state\n",
    "    for i in starting_fish:\n",
    "        arr[i] += 1\n",
    "    \n",
    "    # For each day\n",
    "    for i in range(0, days):\n",
    "\n",
    "        # Remove the count of the fish at state 0 with pop() and add it to state 8 with append()\n",
    "        new_fish = arr.pop(0)\n",
    "        arr.append(new_fish)\n",
    "        \n",
    "        # Fish with state of 0 recycle to state 6\n",
    "        arr[6] += new_fish\n",
    "\n",
    "    return sum(arr)\n",
    "\n",
    "\n",
    "with open(\"input.txt\", \"r\") as f:\n",
    "    input_data = [int(i) for i in f.read().split(',')]\n",
    "\n",
    "test_data = [3,4,3,1,2]\n",
    "\n",
    "assert count_fish(test_data, 18) == 26\n",
    "assert count_fish(test_data, 80) == 5934 \n",
    "\n",
    "print(f\"Part 1: {count_fish(input_data, 80)}\")\n",
    "print(f\"Part 2: {count_fish(input_data, 256)}\")"
   ]
  },
  {
   "cell_type": "code",
   "execution_count": null,
   "metadata": {},
   "outputs": [],
   "source": []
  }
 ],
 "metadata": {
  "kernelspec": {
   "display_name": "adventofcode",
   "language": "python",
   "name": "adventofcode"
  },
  "language_info": {
   "codemirror_mode": {
    "name": "ipython",
    "version": 3
   },
   "file_extension": ".py",
   "mimetype": "text/x-python",
   "name": "python",
   "nbconvert_exporter": "python",
   "pygments_lexer": "ipython3",
   "version": "3.10.0"
  }
 },
 "nbformat": 4,
 "nbformat_minor": 4
}
