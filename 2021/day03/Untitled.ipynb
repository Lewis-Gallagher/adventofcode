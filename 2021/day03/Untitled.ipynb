{
 "cells": [
  {
   "cell_type": "code",
   "execution_count": 1,
   "metadata": {},
   "outputs": [
    {
     "name": "stdout",
     "output_type": "stream",
     "text": [
      "3570354\n"
     ]
    }
   ],
   "source": [
    "import pandas as pd\n",
    "\n",
    "with open(\"input.txt\", \"r\") as binary:\n",
    "\n",
    "    seq = binary.read().splitlines()\n",
    "    \n",
    "    seq = pd.DataFrame(seq, dtype=\"str\")\n",
    "\n",
    "    nn = len(seq[0][0])\n",
    "\n",
    "    # This is disgusting and honestly I feel bad that it came to this...\n",
    "    # str.split seems to put in strange empty columns at the start and end, so nn is required to limit this but it still adds an extra empty first column, so i just drop it here.\n",
    "    seq = seq[0].str.split(\"\", expand = True, n = nn).iloc[:,1:]\n",
    "\n",
    "    ox_gen = seq\n",
    "    co2_scbr = seq\n",
    "\n",
    "    for col in ox_gen.columns:\n",
    "        most_common = ox_gen[col].value_counts().index[0]\n",
    "        ox_gen = ox_gen[ox_gen[col].str.contains(most_common)]\n",
    "        if len(ox_gen) == 1:\n",
    "            break\n",
    "\n",
    "\n",
    "    for col in co2_scbr.columns:\n",
    "        least_common = co2_scbr[col].value_counts().index[1]\n",
    "        co2_scbr = co2_scbr[co2_scbr[col].str.contains(least_common)]\n",
    "        if len(co2_scbr) == 1:\n",
    "            break\n",
    "\n",
    "    ox_gen = ox_gen.iloc[0].to_list()\n",
    "    co2_scbr = co2_scbr.iloc[0].to_list()\n",
    "\n",
    "    ox_gen = int(''.join(ox_gen),2)\n",
    "    co2_scbr = int(''.join(co2_scbr),2)\n",
    "\n",
    "    print(ox_gen * co2_scbr)"
   ]
  },
  {
   "cell_type": "code",
   "execution_count": null,
   "metadata": {},
   "outputs": [],
   "source": []
  }
 ],
 "metadata": {
  "kernelspec": {
   "display_name": "Python 3",
   "language": "python",
   "name": "python3"
  },
  "language_info": {
   "codemirror_mode": {
    "name": "ipython",
    "version": 3
   },
   "file_extension": ".py",
   "mimetype": "text/x-python",
   "name": "python",
   "nbconvert_exporter": "python",
   "pygments_lexer": "ipython3",
   "version": "3.8.3"
  }
 },
 "nbformat": 4,
 "nbformat_minor": 4
}
