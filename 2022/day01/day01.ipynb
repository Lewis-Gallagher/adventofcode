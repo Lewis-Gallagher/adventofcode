{
 "cells": [
  {
   "cell_type": "code",
   "execution_count": 10,
   "id": "5f35318d-53dc-4eaf-95f5-e43657ce4e2a",
   "metadata": {},
   "outputs": [
    {
     "name": "stdout",
     "output_type": "stream",
     "text": [
      "CPU times: user 3 µs, sys: 1 µs, total: 4 µs\n",
      "Wall time: 5.96 µs\n",
      "68802\n",
      "205370\n"
     ]
    }
   ],
   "source": [
    "%time\n",
    "with open(\"input.txt\") as f:\n",
    "    data = [[int(e) for e in elf.splitlines()] for elf in f.read().split(\"\\n\\n\")]\n",
    "\n",
    "li = []\n",
    "for meal in data:\n",
    "    li.append(sum(meal))\n",
    "    \n",
    "print(sorted(li)[-1])\n",
    "print(sum(sorted(li)[-3:]))"
   ]
  }
 ],
 "metadata": {
  "kernelspec": {
   "display_name": "adventofcode",
   "language": "python",
   "name": "adventofcode"
  },
  "language_info": {
   "codemirror_mode": {
    "name": "ipython",
    "version": 3
   },
   "file_extension": ".py",
   "mimetype": "text/x-python",
   "name": "python",
   "nbconvert_exporter": "python",
   "pygments_lexer": "ipython3",
   "version": "3.10.0"
  }
 },
 "nbformat": 4,
 "nbformat_minor": 5
}
