{
 "cells": [
  {
   "cell_type": "code",
   "execution_count": 129,
   "id": "a36633eb-3eb4-4113-afa9-2afc0e0cab7f",
   "metadata": {},
   "outputs": [],
   "source": [
    "W = 6\n",
    "D = 3\n",
    "L = 0\n",
    "\n",
    "score_dic = {\n",
    "    'X': 1,\n",
    "    'Y': 2,\n",
    "    'Z': 3\n",
    "}\n",
    "\n",
    "# play_dic = {\n",
    "#     'A': 'Rock',\n",
    "#     'X': 'Rock',\n",
    "#     'B': 'Paper', \n",
    "#     'Y': 'Paper',\n",
    "#     'C': 'Scissors',\n",
    "#     'Z': 'Scissors'\n",
    "#     }"
   ]
  },
  {
   "cell_type": "code",
   "execution_count": 157,
   "id": "dd16da73-2367-4a55-96c6-1117463bdaac",
   "metadata": {},
   "outputs": [
    {
     "name": "stdout",
     "output_type": "stream",
     "text": [
      "14264\n"
     ]
    }
   ],
   "source": [
    "with open('input.txt') as f:\n",
    "    data = [[p for p in game.split()] for game in f.read().splitlines()]\n",
    "    \n",
    "# games = [[play_dic.get(i) for i in game] for game in test]\n",
    "\n",
    "score = 0\n",
    "\n",
    "for r in data:\n",
    "\n",
    "    #Elf plays Rock    \n",
    "    if r[0] == 'A':\n",
    "        if r[1] == 'X':\n",
    "            score += D + score_dic.get(r[1])    \n",
    "        elif r[1] == 'Y':\n",
    "            score += W + score_dic.get(r[1])\n",
    "        elif r[1] == 'Z':\n",
    "            score += L + score_dic.get(r[1])\n",
    "            \n",
    "    #Elf plays Paper\n",
    "    elif r[0] == 'B':\n",
    "        if r[1] == 'Y':\n",
    "            score += D + score_dic.get(r[1])\n",
    "        elif r[1] == 'Z':\n",
    "            score += W + score_dic.get(r[1])\n",
    "        elif r[1] == 'X':\n",
    "            score += L + score_dic.get(r[1])\n",
    "            \n",
    "    #Elf plays Scissors\n",
    "    elif r[0] == 'C':\n",
    "        if r[1] == 'Z':\n",
    "            score += D + score_dic.get(r[1])\n",
    "        elif r[1] == 'X':\n",
    "            score += W + score_dic.get(r[1])\n",
    "        elif r[1] == 'Y':\n",
    "            score += L + score_dic.get(r[1])\n",
    "\n",
    "            \n",
    "print(score)"
   ]
  },
  {
   "cell_type": "code",
   "execution_count": 158,
   "id": "c819a5be-61ad-4e88-861b-95ceb09e920a",
   "metadata": {},
   "outputs": [
    {
     "name": "stdout",
     "output_type": "stream",
     "text": [
      "12382\n"
     ]
    }
   ],
   "source": [
    "with open('input.txt') as f:\n",
    "    data = [[p for p in game.split()] for game in f.read().splitlines()]\n",
    "    \n",
    "# games = [[play_dic.get(i) for i in game] for game in test]\n",
    "\n",
    "score = 0\n",
    "\n",
    "for r in data:\n",
    "\n",
    "    #Elf plays Rock    \n",
    "    if r[0] == 'A':\n",
    "        if r[1] == 'X':\n",
    "            score += L + score_dic.get('Z')    \n",
    "        elif r[1] == 'Y':\n",
    "            score += D + score_dic.get('X')\n",
    "        elif r[1] == 'Z':\n",
    "            score += W + score_dic.get('Y')\n",
    "            \n",
    "    #Elf plays Paper\n",
    "    elif r[0] == 'B':\n",
    "        if r[1] == 'X':\n",
    "            score += L + score_dic.get('X')\n",
    "        elif r[1] == 'Y':\n",
    "            score += D + score_dic.get('Y')\n",
    "        elif r[1] == 'Z':\n",
    "            score += W + score_dic.get('Z')\n",
    "            \n",
    "    #Elf plays Scissors\n",
    "    elif r[0] == 'C':\n",
    "        if r[1] == 'X':\n",
    "            score += L + score_dic.get('Y')\n",
    "        elif r[1] == 'Y':\n",
    "            score += D + score_dic.get('Z')\n",
    "        elif r[1] == 'Z':\n",
    "            score += W + score_dic.get('X')\n",
    "\n",
    "            \n",
    "print(score)"
   ]
  },
  {
   "cell_type": "code",
   "execution_count": null,
   "id": "d44f9372-77c0-4ba2-bb59-1e6bd5376988",
   "metadata": {},
   "outputs": [],
   "source": []
  }
 ],
 "metadata": {
  "kernelspec": {
   "display_name": "adventofcode",
   "language": "python",
   "name": "adventofcode"
  },
  "language_info": {
   "codemirror_mode": {
    "name": "ipython",
    "version": 3
   },
   "file_extension": ".py",
   "mimetype": "text/x-python",
   "name": "python",
   "nbconvert_exporter": "python",
   "pygments_lexer": "ipython3",
   "version": "3.10.0"
  }
 },
 "nbformat": 4,
 "nbformat_minor": 5
}
