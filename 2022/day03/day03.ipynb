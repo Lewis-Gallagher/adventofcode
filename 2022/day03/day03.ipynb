{
 "cells": [
  {
   "cell_type": "code",
   "execution_count": 1,
   "id": "3fdcd5b6-91dc-4298-bef7-e55650ee7a7a",
   "metadata": {},
   "outputs": [],
   "source": [
    "import string"
   ]
  },
  {
   "cell_type": "code",
   "execution_count": 2,
   "id": "d3e9ffd2-5f53-4ade-b206-9888b3247346",
   "metadata": {},
   "outputs": [],
   "source": [
    "def get_data(file):\n",
    "    with open(file) as f:\n",
    "        data = f.read().splitlines()\n",
    "    return data"
   ]
  },
  {
   "cell_type": "code",
   "execution_count": 3,
   "id": "f9423d97-0708-4e23-823e-ba58d7cf186c",
   "metadata": {},
   "outputs": [],
   "source": [
    "def get_shared_item_priority(data):\n",
    "    \n",
    "    alphabet = list(string.ascii_lowercase + string.ascii_uppercase)\n",
    "    priority_sum = 0\n",
    "    \n",
    "    for r in data:\n",
    "        size = len(r)\n",
    "        comp_size = int(len(r) / 2)\n",
    "        comp_a = r[:comp_size]\n",
    "        comp_b = r[comp_size:]\n",
    "\n",
    "        shared = ''.join(set(comp_a).intersection(set(comp_b)))\n",
    "        priority = alphabet.index(shared) + 1\n",
    "        priority_sum += priority\n",
    "\n",
    "    return priority_sum"
   ]
  },
  {
   "cell_type": "code",
   "execution_count": 4,
   "id": "21c40300-7483-4c8a-baae-4fbddd3681f7",
   "metadata": {},
   "outputs": [
    {
     "name": "stdout",
     "output_type": "stream",
     "text": [
      "CPU times: user 2 µs, sys: 0 ns, total: 2 µs\n",
      "Wall time: 6.2 µs\n"
     ]
    },
    {
     "data": {
      "text/plain": [
       "8088"
      ]
     },
     "execution_count": 4,
     "metadata": {},
     "output_type": "execute_result"
    }
   ],
   "source": [
    "%time\n",
    "rucksacks = get_data('input.txt')\n",
    "get_shared_item_priority(rucksacks)"
   ]
  },
  {
   "cell_type": "code",
   "execution_count": 7,
   "id": "c562f273-31f9-4cbb-a273-7874375f76c8",
   "metadata": {},
   "outputs": [],
   "source": [
    "def get_badges(data, group_size=3):\n",
    "\n",
    "    priority_sum = 0\n",
    "    alphabet = list(string.ascii_lowercase + string.ascii_uppercase)\n",
    "    groups = [data[i:i + group_size] for i in range(0, len(data), group_size)]\n",
    "\n",
    "    for group in range(len(groups)):\n",
    "        elf = 0\n",
    "        shared = ''.join(set(groups[group][elf]).intersection(set(groups[group][elf+1]), set(groups[group][elf+2])))\n",
    "        priority = alphabet.index(shared) + 1\n",
    "        priority_sum += priority\n",
    "\n",
    "    return priority_sum"
   ]
  },
  {
   "cell_type": "code",
   "execution_count": 8,
   "id": "9e52445e-b946-4c4f-a373-f5b699eae014",
   "metadata": {},
   "outputs": [
    {
     "name": "stdout",
     "output_type": "stream",
     "text": [
      "CPU times: user 5 µs, sys: 1e+03 ns, total: 6 µs\n",
      "Wall time: 10 µs\n"
     ]
    },
    {
     "data": {
      "text/plain": [
       "2522"
      ]
     },
     "execution_count": 8,
     "metadata": {},
     "output_type": "execute_result"
    }
   ],
   "source": [
    "%time\n",
    "get_badges(rucksacks)"
   ]
  }
 ],
 "metadata": {
  "kernelspec": {
   "display_name": "adventofcode",
   "language": "python",
   "name": "adventofcode"
  },
  "language_info": {
   "codemirror_mode": {
    "name": "ipython",
    "version": 3
   },
   "file_extension": ".py",
   "mimetype": "text/x-python",
   "name": "python",
   "nbconvert_exporter": "python",
   "pygments_lexer": "ipython3",
   "version": "3.10.0"
  }
 },
 "nbformat": 4,
 "nbformat_minor": 5
}
