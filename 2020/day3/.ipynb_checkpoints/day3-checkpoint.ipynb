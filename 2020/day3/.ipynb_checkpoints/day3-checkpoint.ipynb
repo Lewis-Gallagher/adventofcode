{
 "cells": [
  {
   "cell_type": "markdown",
   "metadata": {},
   "source": [
    "Day 3"
   ]
  },
  {
   "cell_type": "markdown",
   "metadata": {},
   "source": [
    "The toboggan can only follow a few specific slopes (you opted for a cheaper model that prefers rational numbers); start by counting all the trees you would encounter for the slope right 3, down 1:"
   ]
  },
  {
   "cell_type": "code",
   "execution_count": 35,
   "metadata": {},
   "outputs": [],
   "source": [
    "from itertools import compress"
   ]
  },
  {
   "cell_type": "code",
   "execution_count": 36,
   "metadata": {},
   "outputs": [],
   "source": [
    "with open('input.txt' ,'r') as fh:\n",
    "    data = fh.read().splitlines()"
   ]
  },
  {
   "cell_type": "code",
   "execution_count": 67,
   "metadata": {},
   "outputs": [
    {
     "data": {
      "text/plain": [
       "['....#...............#.#..###.##',\n",
       " '.#..#....###..............##...',\n",
       " '....###......#....#.#...#.##..#',\n",
       " '.......#........#..###...##....']"
      ]
     },
     "execution_count": 67,
     "metadata": {},
     "output_type": "execute_result"
    }
   ],
   "source": [
    "data[:4]"
   ]
  },
  {
   "cell_type": "code",
   "execution_count": 37,
   "metadata": {},
   "outputs": [],
   "source": [
    "slope = list(zip(data, data[1:] + data[:1])) "
   ]
  },
  {
   "cell_type": "code",
   "execution_count": 94,
   "metadata": {},
   "outputs": [
    {
     "data": {
      "text/plain": [
       "[('....#...............#.#..###.##', '.#..#....###..............##...'),\n",
       " ('.#..#....###..............##...', '....###......#....#.#...#.##..#'),\n",
       " ('....###......#....#.#...#.##..#', '.......#........#..###...##....'),\n",
       " ('.......#........#..###...##....', '.....#..#......#..#..##..#...#.'),\n",
       " ('.....#..#......#..#..##..#...#.', '....#..........#....#...#......'),\n",
       " ('....#..........#....#...#......', '............###...#............')]"
      ]
     },
     "execution_count": 94,
     "metadata": {},
     "output_type": "execute_result"
    }
   ],
   "source": [
    "slope[:6]"
   ]
  },
  {
   "cell_type": "code",
   "execution_count": 98,
   "metadata": {
    "scrolled": false
   },
   "outputs": [
    {
     "name": "stdout",
     "output_type": "stream",
     "text": [
      "211\n"
     ]
    }
   ],
   "source": [
    "h = 0\n",
    "num_trees = 0\n",
    "\n",
    "for i, j in slope:\n",
    "    h += 3\n",
    "    if h >= len(j):\n",
    "        h -= len(j)\n",
    "    hit = j[h]\n",
    "    if hit == '#':\n",
    "        num_trees += 1\n",
    "        \n",
    "print(num_trees)"
   ]
  }
 ],
 "metadata": {
  "kernelspec": {
   "display_name": "Python 3",
   "language": "python",
   "name": "python3"
  },
  "language_info": {
   "codemirror_mode": {
    "name": "ipython",
    "version": 3
   },
   "file_extension": ".py",
   "mimetype": "text/x-python",
   "name": "python",
   "nbconvert_exporter": "python",
   "pygments_lexer": "ipython3",
   "version": "3.8.3"
  }
 },
 "nbformat": 4,
 "nbformat_minor": 4
}
