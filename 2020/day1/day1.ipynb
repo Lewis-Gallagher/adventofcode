{
 "cells": [
  {
   "cell_type": "markdown",
   "metadata": {},
   "source": [
    "Find the two entries that sum to 2020 and then multiply those two numbers together."
   ]
  },
  {
   "cell_type": "code",
   "execution_count": 49,
   "metadata": {},
   "outputs": [],
   "source": [
    "import numpy as np\n",
    "from  itertools import combinations"
   ]
  },
  {
   "cell_type": "code",
   "execution_count": 50,
   "metadata": {},
   "outputs": [],
   "source": [
    "input_file = 'day1/input.txt'\n",
    "raw = open(input_file,'r').read().splitlines()"
   ]
  },
  {
   "cell_type": "code",
   "execution_count": 51,
   "metadata": {
    "scrolled": false
   },
   "outputs": [],
   "source": [
    "data1 = list(map(int, raw))\n",
    "data2 = data1"
   ]
  },
  {
   "cell_type": "markdown",
   "metadata": {},
   "source": [
    "Part 1"
   ]
  },
  {
   "cell_type": "code",
   "execution_count": 8,
   "metadata": {},
   "outputs": [
    {
     "name": "stdout",
     "output_type": "stream",
     "text": [
      "926464\n"
     ]
    }
   ],
   "source": [
    "for it1 in data1:\n",
    "    for it2 in data2:\n",
    "        if it1 + it2 == 2020:\n",
    "            result = it1 * it2\n",
    "            break\n",
    "            \n",
    "print(result)"
   ]
  },
  {
   "cell_type": "markdown",
   "metadata": {},
   "source": [
    "Part 2"
   ]
  },
  {
   "cell_type": "code",
   "execution_count": 9,
   "metadata": {},
   "outputs": [
    {
     "name": "stdout",
     "output_type": "stream",
     "text": [
      "65656536\n"
     ]
    }
   ],
   "source": [
    "data3 = data1\n",
    "\n",
    "for it1 in data1:\n",
    "    for it2 in data2:\n",
    "        for it3 in data3: \n",
    "            if it1 + it2 + it3 == 2020:\n",
    "                result = it1 * it2 * it3\n",
    "                break\n",
    "\n",
    "print(result)"
   ]
  },
  {
   "cell_type": "markdown",
   "metadata": {},
   "source": [
    "Chris solution"
   ]
  },
  {
   "cell_type": "code",
   "execution_count": 10,
   "metadata": {},
   "outputs": [
    {
     "name": "stdout",
     "output_type": "stream",
     "text": [
      "926464\n"
     ]
    }
   ],
   "source": [
    "l = len(data1)\n",
    "\n",
    "for i in range(l):\n",
    "    for j in range(i + 1, l):\n",
    "        if data1[i] + data1[j] == 2020:\n",
    "            print(data1[i] * data1[j])\n",
    "            "
   ]
  },
  {
   "cell_type": "code",
   "execution_count": 21,
   "metadata": {},
   "outputs": [
    {
     "name": "stdout",
     "output_type": "stream",
     "text": [
      "65656536\n",
      "65656536\n"
     ]
    }
   ],
   "source": [
    "l = len(data1)\n",
    "\n",
    "for i in range(l):\n",
    "    for j in range(i + 1, l):\n",
    "        for k in range(i + 1, l):\n",
    "            if data1[i] + data1[j] + data1[k] == 2020:\n",
    "                print(data1[i] * data1[j] * data1[k])"
   ]
  },
  {
   "cell_type": "markdown",
   "metadata": {},
   "source": [
    "Better solution"
   ]
  },
  {
   "cell_type": "code",
   "execution_count": 42,
   "metadata": {},
   "outputs": [
    {
     "name": "stdout",
     "output_type": "stream",
     "text": [
      "926464\n"
     ]
    }
   ],
   "source": [
    "combos = list(combinations(data1, 2))\n",
    "for combo in combos:\n",
    "    if np.sum(combo) == 2020:\n",
    "        print(np.prod(combo))"
   ]
  },
  {
   "cell_type": "code",
   "execution_count": 59,
   "metadata": {},
   "outputs": [],
   "source": [
    "def get_2020(d, s, expect):\n",
    "    combos = list(combinations(d, s))\n",
    "    for c in combos:\n",
    "        if np.sum(c) == expect:\n",
    "            return np.prod(c)"
   ]
  },
  {
   "cell_type": "code",
   "execution_count": 63,
   "metadata": {},
   "outputs": [
    {
     "name": "stdout",
     "output_type": "stream",
     "text": [
      "Solution 1: 926464\n",
      "Solution 2: 65656536\n"
     ]
    }
   ],
   "source": [
    "print(f\"Solution 1: {get_2020(data1, 2, 2020)}\")\n",
    "print(f\"Solution 2: {get_2020(data1, 3, 2020)}\")\n"
   ]
  }
 ],
 "metadata": {
  "kernelspec": {
   "display_name": "Python 3",
   "language": "python",
   "name": "python3"
  },
  "language_info": {
   "codemirror_mode": {
    "name": "ipython",
    "version": 3
   },
   "file_extension": ".py",
   "mimetype": "text/x-python",
   "name": "python",
   "nbconvert_exporter": "python",
   "pygments_lexer": "ipython3",
   "version": "3.8.3"
  }
 },
 "nbformat": 4,
 "nbformat_minor": 4
}
