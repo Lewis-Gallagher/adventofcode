{
 "cells": [
  {
   "cell_type": "markdown",
   "metadata": {},
   "source": [
    "Count the number of valid passports - those that have all required fields. Treat cid as optional. In your batch file, how many passports are valid?"
   ]
  },
  {
   "cell_type": "code",
   "execution_count": 1,
   "metadata": {},
   "outputs": [],
   "source": [
    "import re"
   ]
  },
  {
   "cell_type": "code",
   "execution_count": 2,
   "metadata": {},
   "outputs": [],
   "source": [
    "with open('input.txt') as file:\n",
    "    data = file.read()"
   ]
  },
  {
   "cell_type": "code",
   "execution_count": 3,
   "metadata": {
    "scrolled": true
   },
   "outputs": [],
   "source": [
    "data = data.split('\\n\\n')"
   ]
  },
  {
   "cell_type": "code",
   "execution_count": 63,
   "metadata": {},
   "outputs": [],
   "source": [
    "def is_valid(pp, valid_fields):\n",
    "    if all(field in pp for field in valid_fields):\n",
    "        return True\n",
    "    else:\n",
    "        return False"
   ]
  },
  {
   "cell_type": "code",
   "execution_count": 77,
   "metadata": {},
   "outputs": [],
   "source": [
    "def is_valid_byr(byr):\n",
    "    if (len(byr) == 4) and (byr.isdigit()) and (int(byr) >= 1920) and (int(byr) <= 2002):        \n",
    "        return True\n",
    "    else:\n",
    "        return False"
   ]
  },
  {
   "cell_type": "code",
   "execution_count": 78,
   "metadata": {},
   "outputs": [],
   "source": [
    "def is_valid_iyr(iyr):\n",
    "    if (len(str(iyr)) == 4) and (iyr.isdigit()) and (int(iyr) >= 2010) and (int(iyr) <= 2020):\n",
    "        return True\n",
    "    else:\n",
    "        return False"
   ]
  },
  {
   "cell_type": "code",
   "execution_count": 79,
   "metadata": {},
   "outputs": [],
   "source": [
    "def is_valid_eyr(eyr):\n",
    "    if (len(str(eyr)) == 4) and (eyr.isdigit()) and (int(eyr) >= 2020) and (int(eyr) <= 2030):\n",
    "        return True\n",
    "    else:\n",
    "        return False"
   ]
  },
  {
   "cell_type": "code",
   "execution_count": 80,
   "metadata": {},
   "outputs": [],
   "source": [
    "def is_valid_hgt(hgt):\n",
    "    hgt_i = int(re.sub(r'[a-z]+', '', hgt))\n",
    "    \n",
    "    if (('cm' in hgt) and (hgt_i >= 150) and (hgt_i <= 193)) or \\\n",
    "    (('in' in hgt) and (hgt_i >= 59) and (hgt_i <= 76)):\n",
    "        return True\n",
    "    else:\n",
    "        return False"
   ]
  },
  {
   "cell_type": "code",
   "execution_count": 81,
   "metadata": {},
   "outputs": [],
   "source": [
    "def is_valid_hcl(hcl):\n",
    "    if (str(hcl.startswith('#'))) and (len(str(hcl)) == 7) and (re.fullmatch('#[a-f0-9]{6}', str(hcl))):\n",
    "        return True\n",
    "    else:\n",
    "        return False"
   ]
  },
  {
   "cell_type": "code",
   "execution_count": 82,
   "metadata": {},
   "outputs": [],
   "source": [
    "def is_valid_ecl(ecl):\n",
    "    valid_colours = ['amb', 'blu', 'brn', 'gry', 'grn', 'hzl', 'oth']\n",
    "    if str(ecl) in valid_colours:\n",
    "        return True\n",
    "    else:\n",
    "        return False"
   ]
  },
  {
   "cell_type": "code",
   "execution_count": 83,
   "metadata": {},
   "outputs": [],
   "source": [
    "def is_valid_pid(pid):\n",
    "    if (len(str(pid)) == 9) and (str(pid).isdigit()):\n",
    "        return True\n",
    "    else:\n",
    "        return False"
   ]
  },
  {
   "cell_type": "code",
   "execution_count": 88,
   "metadata": {},
   "outputs": [],
   "source": [
    "def has_good_data(valid_passprt):\n",
    "    \n",
    "    pp = valid_passprt.split()\n",
    "    d = {}\n",
    "    valid_fields = ['byr', 'iyr', 'eyr', 'hgt', 'hcl', 'ecl', 'pid']\n",
    "\n",
    "    for item in pp:\n",
    "        key = item.split(':')[0]\n",
    "        val =  item.split(':')[1]       \n",
    "        d[key] = val\n",
    "    if not is_valid_byr(d['byr']):\n",
    "        return False\n",
    "\n",
    "    if not is_valid_ecl(d['ecl']):\n",
    "        return False\n",
    "\n",
    "    if not is_valid_eyr(d['eyr']):\n",
    "        return False\n",
    "\n",
    "    if not is_valid_hcl(d['hcl']):\n",
    "        return False\n",
    "\n",
    "    if not is_valid_hgt(d['hgt']):\n",
    "        return False\n",
    "\n",
    "    if not is_valid_iyr(d['iyr']):\n",
    "        return False\n",
    "\n",
    "    if not is_valid_pid(d['pid']):\n",
    "        return False\n",
    "\n",
    "    return True\n"
   ]
  },
  {
   "cell_type": "code",
   "execution_count": 90,
   "metadata": {
    "scrolled": true
   },
   "outputs": [
    {
     "name": "stdout",
     "output_type": "stream",
     "text": [
      "Part 1: 250\n",
      "Part 2: 158\n"
     ]
    }
   ],
   "source": [
    "part1_count = 0\n",
    "part2_count = 0\n",
    "good_passports = []\n",
    "valid_fields = ['byr', 'iyr', 'eyr', 'hgt', 'hcl', 'ecl', 'pid']\n",
    "\n",
    "for passport in data:\n",
    "    passport = passport.replace('\\n',' ')\n",
    "    \n",
    "    if is_valid(passport, valid_fields):\n",
    "        part1_count +=1\n",
    "        good_passports.append(passport)\n",
    "        \n",
    "for passport in data:\n",
    "    passport = passport.replace('\\n',' ')\n",
    "\n",
    "    if is_valid(passport, valid_fields) and \\\n",
    "        has_good_data(passport):\n",
    "        part2_count += 1     \n",
    "\n",
    "print(f\"Part 1: {part1_count}\\nPart 2: {part2_count}\")"
   ]
  }
 ],
 "metadata": {
  "kernelspec": {
   "display_name": "Python 3",
   "language": "python",
   "name": "python3"
  },
  "language_info": {
   "codemirror_mode": {
    "name": "ipython",
    "version": 3
   },
   "file_extension": ".py",
   "mimetype": "text/x-python",
   "name": "python",
   "nbconvert_exporter": "python",
   "pygments_lexer": "ipython3",
   "version": "3.8.3"
  }
 },
 "nbformat": 4,
 "nbformat_minor": 4
}
