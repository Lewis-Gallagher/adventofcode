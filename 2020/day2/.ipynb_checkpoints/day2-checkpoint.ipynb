{
 "cells": [
  {
   "cell_type": "markdown",
   "metadata": {},
   "source": [
    "Part 1"
   ]
  },
  {
   "cell_type": "markdown",
   "metadata": {},
   "source": [
    "How many passwords are valid according to their policies?"
   ]
  },
  {
   "cell_type": "code",
   "execution_count": 22,
   "metadata": {},
   "outputs": [],
   "source": [
    "with open('input.txt', 'r') as fh:\n",
    "    data = fh.read().splitlines()"
   ]
  },
  {
   "cell_type": "code",
   "execution_count": 55,
   "metadata": {},
   "outputs": [
    {
     "name": "stdout",
     "output_type": "stream",
     "text": [
      "Invalid passwords: 645\n"
     ]
    }
   ],
   "source": [
    "li = [i.split() for i in data]\n",
    "num = 0\n",
    "\n",
    "for i in li:\n",
    "    minimum = int(i[0].split('-')[0])\n",
    "    maximum = int(i[0].split('-')[1])    \n",
    "    key = ' '.join(i[1].strip(':'))\n",
    "    pw = str(i[2])\n",
    "    count = int(pw.count(key))\n",
    "    \n",
    "    if (key in pw) and (count in range(minimum,maximum+1)):\n",
    "        num+=1\n",
    "    else:\n",
    "        continue\n",
    "    \n",
    "print(f\"Invalid passwords: {num}\")"
   ]
  },
  {
   "cell_type": "markdown",
   "metadata": {},
   "source": [
    "Part 2"
   ]
  },
  {
   "cell_type": "markdown",
   "metadata": {},
   "source": [
    "How many passwords are valid according to the new interpretation of the policies?\n",
    "\n",
    "\n",
    "    1-3 a: abcde is valid: position 1 contains a and position 3 does not.\n",
    "    1-3 b: cdefg is invalid: neither position 1 nor position 3 contains b.\n",
    "    2-9 c: ccccccccc is invalid: both position 2 and position 9 contain c.\n"
   ]
  },
  {
   "cell_type": "code",
   "execution_count": 103,
   "metadata": {},
   "outputs": [
    {
     "name": "stdout",
     "output_type": "stream",
     "text": [
      "Valid passwords: 737\n"
     ]
    }
   ],
   "source": [
    "li = [i.split() for i in data]\n",
    "num = 0\n",
    "\n",
    "for i in li:\n",
    "    pos1 = int(i[0].split('-')[0])\n",
    "    pos2 = int(i[0].split('-')[1])    \n",
    "    key = ' '.join(i[1].strip(':'))\n",
    "    pw = str(i[2])\n",
    "    valid_positions = ([pos for pos, char in enumerate(pw, start=1) if char == key]) \n",
    "\n",
    "    if (pos1 in valid_positions or pos2 in valid_positions) \\\n",
    "        and not (pos1 in valid_positions and pos2 in valid_positions):\n",
    "        num+=1       \n",
    "        \n",
    "print(f\"Valid passwords: {num}\")"
   ]
  }
 ],
 "metadata": {
  "kernelspec": {
   "display_name": "Python 3",
   "language": "python",
   "name": "python3"
  },
  "language_info": {
   "codemirror_mode": {
    "name": "ipython",
    "version": 3
   },
   "file_extension": ".py",
   "mimetype": "text/x-python",
   "name": "python",
   "nbconvert_exporter": "python",
   "pygments_lexer": "ipython3",
   "version": "3.8.3"
  }
 },
 "nbformat": 4,
 "nbformat_minor": 4
}
